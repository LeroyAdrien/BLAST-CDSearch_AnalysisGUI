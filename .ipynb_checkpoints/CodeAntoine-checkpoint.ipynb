{
 "cells": [
  {
   "cell_type": "markdown",
   "metadata": {},
   "source": [
    "# Projet UE MU4BM748\n",
    "\n",
    "Antoine Auvergne <Br>\n",
    "n° étudiant : 3522049"
   ]
  },
  {
   "cell_type": "markdown",
   "metadata": {},
   "source": [
    "### Importation des bibliothèques"
   ]
  },
  {
   "cell_type": "code",
   "execution_count": 1,
   "metadata": {},
   "outputs": [],
   "source": [
    "import tkinter as tk\n",
    "import os"
   ]
  },
  {
   "cell_type": "code",
   "execution_count": 2,
   "metadata": {},
   "outputs": [
    {
     "name": "stdout",
     "output_type": "stream",
     "text": [
      "CodeAntoine.ipynb  fournis  Projet.ipynb  Projet.pdf\r\n"
     ]
    }
   ],
   "source": [
    "!dir\n"
   ]
  },
  {
   "cell_type": "markdown",
   "metadata": {},
   "source": [
    "On a comme fichiers :\n",
    "    - les blastp (dossier blastp) entre les protéomes suivants :<Br>\n",
    "       - 000014865.1_ASM1486v1 vs 000009985.1_ASM998v1<Br>\n",
    "       - 001580455.1_ASM158045v1 vs 000215705.1_ASM21570v1<Br>\n",
    "       - 002843685.1_ASM284368v1 vs 000026265.1_ASM2626v1<Br>\n",
    "        \n",
    "        objectif du blastp : séquence de protéine contre une base de données de séquences de protéines.\n",
    "        Ce qu'on peut en tirer : pour une protéine d'une espèce ($1) comparée à une autre ($2), on a :\n",
    "            - pourcentage d'identité ($3)    > permet d'établir une homologie\n",
    "        - la longueur du match ($4)\n",
    "            - le nombre de mismatch ($5)\n",
    "        - le nombre de gap ($6)\n",
    "            - le nucléotide de départ et de fin de la séquence de la query ($7 et $8)\n",
    "            - idem pour la 2e prot ($9 et $10)\n",
    "            - la evalue ($11) associée au hit  > permet d'établir une homologie\n",
    "        - le bitscore (est lié à la evalue) ($12)\n",
    "    - les fichiers CD search :\n",
    "        objectif : recherche de domaines conservés\n",
    "        ce qu'on peut en tirer : pour un gène ($1) :\n",
    "        - le type de hit ($2)\n",
    "            - l'ID PSSM ($3)\n",
    "        - nucléotide de départ et de fin ($4 et $5)\n",
    "        - la e value ($6) associée au hit > permet d'établir une homologie\n",
    "            - bitscore (est lié à la evalue) ($7)\n",
    "        - le code cog ($8) qui permet de trouver le nom et la fonction de la protéine match\n",
    "            - le reste on s'en fiche je pense sauf peut-être la superfamille ($12) > homologie ?"
   ]
  },
  {
   "cell_type": "markdown",
   "metadata": {},
   "source": [
    "ASM998v1    > Magnetospirillum magneticum AMB-1 (a-proteobacteria) <Br>\n",
    "ASM1486v1   > Magnetococcus marinus MC-1 (a-proteobacteria) <Br>\n",
    "ASM2626v1   > E. coli IAI1 (E. coli) <Br>\n",
    "ASM21570v1  > Ramlibacter tataouinensis TTB310 (b-proteobacteria) <Br>\n",
    "ASM158045v1 > Ramlibacter sp. 5-10 (b-proteobacteria) <Br>\n",
    "ASM284368v1 > E. coli K-12 (E. coli) <Br>"
   ]
  }
 ],
 "metadata": {
  "kernelspec": {
   "display_name": "Python 3",
   "language": "python",
   "name": "python3"
  },
  "language_info": {
   "codemirror_mode": {
    "name": "ipython",
    "version": 3
   },
   "file_extension": ".py",
   "mimetype": "text/x-python",
   "name": "python",
   "nbconvert_exporter": "python",
   "pygments_lexer": "ipython3",
   "version": "3.7.5"
  }
 },
 "nbformat": 4,
 "nbformat_minor": 2
}
